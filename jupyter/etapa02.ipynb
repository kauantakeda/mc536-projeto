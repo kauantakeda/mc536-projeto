{
 "cells": [
  {
   "cell_type": "markdown",
   "metadata": {},
   "source": [
    "# trabalho-etapa02-MC536"
   ]
  },
  {
   "cell_type": "markdown",
   "metadata": {},
   "source": [
    "Modelagem Conceitual v4<br>\n",
    "<br>\n",
    "<img src=\"https://i.imgur.com/zb6eQus.jpg\"><br>\n",
    "<br>\n",
    "Modelo Lógico v1<br>\n",
    "\tForam realizadas algumas mudanças no modelo relacional para o mapeamento do modelo lógico:<br>\n",
    "Criação de tabelas novas para relações n:n<br>\n",
    "Inserção de novas colunas em relações 1:n<br>\n",
    "As relações Doença-Sintomas foram transformadas em uma única relação n:n com uma nova tabela.<br>\n",
    "As relações Medico-Assistente foram transformadas em uma única relação 1:n, pois o médico pode cadastrar apenas os próprios assistentes.<br>\n",
    "O campo Histórico de Paciente será removido pois o histórico já é guardado nas relações Paciente-Sintoma e Paciente-Doença.<br>\n",
    "<br>\n",
    "Tabelas:<br>\n",
    "Medico (medico_id:int, nome:String, crm:int, crm_estado:String login:String, senha:String)<br>\n",
    "Assistente (assistente_id:int, nome:String, login:String, senha:String, medico_id:int)<br>\n",
    "FK: <br>\n",
    "medico_id: medico_id(Medico)<br>\n",
    "Paciente (paciente_id:int, nome:String, RG:int, idade:int, peso:int, cidade:String, ocupacao:String, medico_id:int, assistente_id:int)<br>\n",
    "FK:<br>\n",
    "medico_id: medico_id(Medico)<br>\n",
    "assistente_id: assistente_id(Assistente)<br>\n",
    "SintomaCondicao (sintoma_condicao_id:int,  nome_popular:String, nome_cientifico:String, definicao:String, categoria:String, categoria:String)<br>\n",
    "HistoricoSintomaCondicao (historico_doenca_id:int, medico_id:int, paciente_id: int, sintoma_condicao_id:int)<br>\n",
    "FK:<br>\n",
    "medico_id: medico_id(Medico)<br>\n",
    "paciente_id: paciente_id(Paciente)<br>\n",
    "sintoma_condicao_id: sintoma_condicao_id(Sintoma)<br>\n",
    "GrafoSintomaCondicao (grafo_sintoma_condica_id:int, sintoma_condicao_pai_id:int, sintoma_condicao__filho_id:int)<br>\n",
    "FK:<br>\n",
    "sintoma_condicao_pai_id: sintoma_condicao_pai_id(SintomaCondicao)<br>\n",
    "sintoma_condicao_filho_id: sintoma_condicao_filho_id(SintomaCondicao)<br>\n",
    "Tabelas removidas por falta de dados, mas podem ser existentes caso encontremos um banco de dados que contenha as informações necessárias:<br>\n",
    "CategoriaAnatomica (categoria_anatomica_id:int, nome:String)<br>\n",
    "GrafoCategoriaAnatomica (grafo_cateogoria_anatomica_id:int, categoria_anatomica_pai_id:int, categoria_anatomica__filho_id:int)<br>\n",
    "FK:<br>\n",
    "categoria_anatomica_pai_id: categoria_anatomica_pai_id(CategoriaAnatomica)<br>\n",
    "categoria_anatomica_filho_id: categoria_anatomica_filho_id(CategoriaAnatomica)<br>\n",
    "CategoriaAnatomicaSintoma (categoria_anatomica_sintoma_id:int, categoria_anatomica_id:int, sintoma_condicao_id:int)<br>\n",
    "FK:<br>\n",
    "categoria_anatomica_id: categoria_anatomica_id(CategoriaAnatomica)<br>\n",
    "sintoma_condicao_id: sintoma_condicao_id(SintomaCondicao)<br>\n"
   ]
  },
  {
   "cell_type": "code",
   "execution_count": null,
   "metadata": {},
   "outputs": [],
   "source": [
    "%matplotlib inline\n",
    "from ipywidgets import interactive, fixed"
   ]
  },
  {
   "cell_type": "markdown",
   "metadata": {},
   "source": []
  },
  {
   "cell_type": "code",
   "execution_count": null,
   "metadata": {},
   "outputs": [],
   "source": [
    "from lorenz import solve_lorenz\n",
    "w=interactive(solve_lorenz,sigma=(0.0,50.0),rho=(0.0,50.0))\n",
    "w"
   ]
  },
  {
   "cell_type": "markdown",
   "metadata": {},
   "source": [
    "For the default set of parameters, we see the trajectories swirling around two points, called attractors. "
   ]
  },
  {
   "cell_type": "markdown",
   "metadata": {},
   "source": [
    "The object returned by `interactive` is a `Widget` object and it has attributes that contain the current result and arguments:"
   ]
  },
  {
   "cell_type": "code",
   "execution_count": null,
   "metadata": {
    "collapsed": true
   },
   "outputs": [],
   "source": [
    "t, x_t = w.result"
   ]
  },
  {
   "cell_type": "code",
   "execution_count": null,
   "metadata": {},
   "outputs": [],
   "source": [
    "w.kwargs"
   ]
  },
  {
   "cell_type": "markdown",
   "metadata": {},
   "source": [
    "After interacting with the system, we can take the result and perform further computations. In this case, we compute the average positions in \\\\(x\\\\), \\\\(y\\\\) and \\\\(z\\\\)."
   ]
  },
  {
   "cell_type": "code",
   "execution_count": null,
   "metadata": {
    "collapsed": true
   },
   "outputs": [],
   "source": [
    "xyz_avg = x_t.mean(axis=1)"
   ]
  },
  {
   "cell_type": "code",
   "execution_count": null,
   "metadata": {},
   "outputs": [],
   "source": [
    "xyz_avg.shape"
   ]
  },
  {
   "cell_type": "markdown",
   "metadata": {},
   "source": [
    "Creating histograms of the average positions (across different trajectories) show that, on average, the trajectories swirl about the attractors."
   ]
  },
  {
   "cell_type": "code",
   "execution_count": null,
   "metadata": {},
   "outputs": [],
   "source": [
    "from matplotlib import pyplot as plt"
   ]
  },
  {
   "cell_type": "code",
   "execution_count": null,
   "metadata": {},
   "outputs": [],
   "source": [
    "plt.hist(xyz_avg[:,0])\n",
    "plt.title('Average $x(t)$');"
   ]
  },
  {
   "cell_type": "code",
   "execution_count": null,
   "metadata": {},
   "outputs": [],
   "source": [
    "plt.hist(xyz_avg[:,1])\n",
    "plt.title('Average $y(t)$');"
   ]
  }
 ],
 "metadata": {
  "kernelspec": {
   "display_name": "Python 3",
   "language": "python",
   "name": "python3"
  },
  "language_info": {
   "codemirror_mode": {
    "name": "ipython",
    "version": 3
   },
   "file_extension": ".py",
   "mimetype": "text/x-python",
   "name": "python",
   "nbconvert_exporter": "python",
   "pygments_lexer": "ipython3",
   "version": "3.6.6"
  }
 },
 "nbformat": 4,
 "nbformat_minor": 2
}
