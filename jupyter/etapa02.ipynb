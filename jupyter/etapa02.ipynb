{
 "cells": [
  {
   "cell_type": "markdown",
   "metadata": {},
   "source": [
    "# trabalho-etapa02-MC536"
   ]
  },
  {
   "cell_type": "markdown",
   "metadata": {},
   "source": [
    "Modelagem Conceitual v4<br>\n",
    "<br>\n",
    "<img src=\"https://i.imgur.com/zb6eQus.jpg\"><br>\n",
    "<br>\n",
    "Modelo Lógico v1<br>\n",
    "\tForam realizadas algumas mudanças no modelo relacional para o mapeamento do modelo lógico:<br>\n",
    "Criação de tabelas novas para relações n:n<br>\n",
    "Inserção de novas colunas em relações 1:n<br>\n",
    "As relações Doença-Sintomas foram transformadas em uma única relação n:n com uma nova tabela.<br>\n",
    "As relações Medico-Assistente foram transformadas em uma única relação 1:n, pois o médico pode cadastrar apenas os próprios assistentes.<br>\n",
    "O campo Histórico de Paciente será removido pois o histórico já é guardado nas relações Paciente-Sintoma e Paciente-Doença.<br>\n",
    "<br>\n",
    "Tabelas:<br>\n",
    "Medico (medico_id:int, nome:String, crm:int, crm_estado:String login:String, senha:String)<br>\n",
    "Assistente (assistente_id:int, nome:String, login:String, senha:String, medico_id:int)<br>\n",
    "FK: <br>\n",
    "medico_id: medico_id(Medico)<br>\n",
    "Paciente (paciente_id:int, nome:String, RG:int, idade:int, peso:int, cidade:String, ocupacao:String, medico_id:int, assistente_id:int)<br>\n",
    "FK:<br>\n",
    "medico_id: medico_id(Medico)<br>\n",
    "assistente_id: assistente_id(Assistente)<br>\n",
    "SintomaCondicao (sintoma_condicao_id:int,  nome_popular:String, nome_cientifico:String, definicao:String, categoria:String)<br>\n",
    "HistoricoSintomaCondicao (historico_doenca_id:int, medico_id:int, paciente_id: int, sintoma_condicao_id:int)<br>\n",
    "FK:<br>\n",
    "medico_id: medico_id(Medico)<br>\n",
    "paciente_id: paciente_id(Paciente)<br>\n",
    "sintoma_condicao_id: sintoma_condicao_id(Sintoma)<br>\n",
    "GrafoSintomaCondicao (grafo_sintoma_condica_id:int, sintoma_condicao_pai_id:int, sintoma_condicao__filho_id:int)<br>\n",
    "FK:<br>\n",
    "sintoma_condicao_pai_id: sintoma_condicao_pai_id(SintomaCondicao)<br>\n",
    "sintoma_condicao_filho_id: sintoma_condicao_filho_id(SintomaCondicao)<br>\n",
    "Tabelas removidas por falta de dados, mas podem ser existentes caso encontremos um banco de dados que contenha as informações necessárias:<br>\n",
    "CategoriaAnatomica (categoria_anatomica_id:int, nome:String)<br>\n",
    "GrafoCategoriaAnatomica (grafo_cateogoria_anatomica_id:int, categoria_anatomica_pai_id:int, categoria_anatomica__filho_id:int)<br>\n",
    "FK:<br>\n",
    "categoria_anatomica_pai_id: categoria_anatomica_pai_id(CategoriaAnatomica)<br>\n",
    "categoria_anatomica_filho_id: categoria_anatomica_filho_id(CategoriaAnatomica)<br>\n",
    "CategoriaAnatomicaSintoma (categoria_anatomica_sintoma_id:int, categoria_anatomica_id:int, sintoma_condicao_id:int)<br>\n",
    "FK:<br>\n",
    "categoria_anatomica_id: categoria_anatomica_id(CategoriaAnatomica)<br>\n",
    "sintoma_condicao_id: sintoma_condicao_id(SintomaCondicao)<br>\n"
   ]
  },
  {
   "cell_type": "markdown",
   "metadata": {},
   "source": [
    "Criando tabelas"
   ]
  },
  {
   "cell_type": "code",
   "execution_count": null,
   "metadata": {},
   "outputs": [],
   "source": [
    "CREATE TABLE Medico(\n",
    "    medico_id int NOT NULL, \n",
    "    nome VARCHAR(100) NOT NULL, \n",
    "    crm int NOT NULL, \n",
    "    crm_estado VARCHAR(2) NOT NULL,\n",
    "    login VARCHAR(100) NOT NULL, \n",
    "    senha VARCHAR(100) NOT NULL,\n",
    "    PRIMARY KEY (medico_id)\n",
    ");\n",
    "CREATE TABLE Assistente (\n",
    "    assistente_id int NOT NULL, \n",
    "    nome VARCHAR(100) NOT NULL, \n",
    "    login VARCHAR(100) NOT NULL, \n",
    "    senha VARCHAR(100) NOT NULL, \n",
    "    medico_id int NOT NULL,\n",
    "    PRIMARY KEY (assistente_id),\n",
    "    FOREIGN KEY (medico_id) REFERENCES Medico(medico_id)\n",
    ");\n",
    "\n",
    "CREATE TABLE Paciente (\n",
    "    paciente_id int NOT NULL, \n",
    "    nome String NOT NULL, \n",
    "    RG int NOT NULL, \n",
    "    idade int, \n",
    "    peso int, \n",
    "    cidade VARCHAR(100), \n",
    "    ocupacao VARCHAR(100), \n",
    "    medico_id int NOT NULL, \n",
    "    assistente_id int,\n",
    "    PRIMARY KEY (paciente_id),\n",
    "    FOREIGN KEY (medico_id) REFERENCES Medico(medico_id), \n",
    "    FOREIGN KEY (assistente_id) REFERENCES assistente(assistente_id)\n",
    ");\n",
    "\n",
    "CREATE TABLE SintomaCondicao (\n",
    "    sintoma_condicao_id int NOT NULL, \n",
    "    nome_popular VARCHAR(100), \n",
    "    nome_cientifico VARCHAR(100) NOT NULL, \n",
    "    definicao VARCHAR(100), \n",
    "    categoria VARCHAR(100) NOT NULL,\n",
    "    PRIMARY KEY (sintoma_condicao_id)\n",
    ");\n",
    "\n",
    "CREATE TABLE HistoricoSintomaCondicao (\n",
    "    historico_doenca_id int NOT NULL, \n",
    "    medico_id int NOT NULL, \n",
    "    paciente_id int NOT NULL, \n",
    "    sintoma_condicao_id int NOT NULL,\n",
    "    PRIMARY KEY (historico_doenca_id),\n",
    "    FOREIGN KEY (medico_id) REFERENCES Medico(medico_id),\n",
    "    FOREIGN KEY (paciente_id) REFERENCES Paciente(paciente_id),\n",
    "    FOREIGN KEY (sintoma_condicao_id) REFERENCES Sintoma(sintoma_condicao_id)\n",
    ");\n",
    "\n",
    "CREATE TABLE GrafoSintomaCondicao (\n",
    "    grafo_sintoma_condicao_id int NOT NULL, \n",
    "    sintoma_condicao_pai_id int NOT NULL, \n",
    "    sintoma_condicao__filho_id int NOT NULL,\n",
    "    PRIMARY KEY (grafo_sintoma_codicao_id),\n",
    "    FOREIGN KEY (sintoma_condicao_pai_id): SintomaCondicao(sintoma_condicao_pai_id),\n",
    "    FOREIGN KEY (sintoma_condicao_filho_id): SintomaCondicao(sintoma_condicao_filho_id)\n",
    "    \n",
    ");\n",
    "    \n",
    "CREATE TABLE CategoriaAnatomica (\n",
    "    categoria_anatomica_id int NOT NULL,\n",
    "    nome VARCHAR(100) NOT NULL,\n",
    "    PRIMARY KEY (categoria_anatomica_id)\n",
    ");\n",
    "\n",
    "CREATE TABLE GrafoCategoriaAnatomica (\n",
    "    grafo_categoria_anatomica_id int NOT NULL, \n",
    "    categoria_anatomica_pai_id int NOT NULL, \n",
    "    categoria_anatomica__filho_id int NOT NULL,\n",
    "    PRIMARY KEY (grafo_categoria_anatomica_id),\n",
    "    FOREIGN KEY (categoria_anatomica_pai_id) REFERENCES CategoriaAnatomica(categoria_anatomica_pai_id),\n",
    "    FOREIGN KEY (categoria_anatomica_filho_id) REFERENCES CategoriaAnatomica(categoria_anatomica_filho_id\n",
    ");\n",
    "\n",
    "CREATE TABLE CategoriaAnatomicaSintoma (\n",
    "    categoria_anatomica_sintoma_id int NOT NULL, \n",
    "    categoria_anatomica_id int NOT NULL, \n",
    "    sintoma_condicao_id int NOT NULL,\n",
    "    PRIMARY KEY (categoria_anatomica_sintoma_id),\n",
    "    FOREIGN KEY (categoria_anatomica_id): CategoriaAnatomica(categoria_anatomica_id),\n",
    "    FOREIGN KEY (sintoma_condicao_id): SintomaCondicao(sintoma_condicao_id)\n",
    ");"
   ]
  },
  {
   "cell_type": "markdown",
   "metadata": {},
   "source": [
    "Inserindo dados "
   ]
  },
  {
   "cell_type": "code",
   "execution_count": null,
   "metadata": {},
   "outputs": [],
   "source": [
    "Ainda nao consegui o arquivo csv"
   ]
  },
  {
   "cell_type": "markdown",
   "metadata": {},
   "source": [
    "Querys exemplos que podem ser úteis"
   ]
  },
  {
   "cell_type": "markdown",
   "metadata": {},
   "source": [
    "Saber qual cidade ocorreu mais da doença X"
   ]
  },
  {
   "cell_type": "code",
   "execution_count": null,
   "metadata": {
    "collapsed": true
   },
   "outputs": [],
   "source": [
    "SELECT COUNT(h.sintoma_condicao_id), p.cidade \n",
    "FROM HistoricoSintomaCondicao h, Paciente p, SintomaCondicao s\n",
    "WHERE \n",
    "    h.paciente_id = p.paciente_id AND \n",
    "    h.sintoma_condicao_id = s.sintoma_condicao_id AND \n",
    "    s.nome = \"X\"\n",
    "GROUP BY (p.cidade);"
   ]
  },
  {
   "cell_type": "markdown",
   "metadata": {},
   "source": [
    "Saber quanto da doença X ocorreu entre os 12 e 25 anos"
   ]
  },
  {
   "cell_type": "code",
   "execution_count": null,
   "metadata": {},
   "outputs": [],
   "source": [
    "SELECT COUNT(p.paciente_id) \n",
    "FROM HistoricoSintomaCondicao h, Paciente p, SintomaCondicao s\n",
    "WHERE \n",
    "    h.paciente_id = p.paciente_id AND \n",
    "    h.sintoma_condicao_id = s.sintoma_condicao_id AND \n",
    "    s.nome = \"X\" AND\n",
    "    p.idade <= 25 AND\n",
    "    p.idade >= 12\n",
    ";"
   ]
  },
  {
   "cell_type": "markdown",
   "metadata": {},
   "source": [
    "Saber quanto da doença X ocorreu entre pessoas com mais de 80kg"
   ]
  },
  {
   "cell_type": "code",
   "execution_count": null,
   "metadata": {
    "collapsed": true
   },
   "outputs": [],
   "source": [
    "SELECT COUNT(p.paciente_id) \n",
    "FROM HistoricoSintomaCondicao h, Paciente p, SintomaCondicao s\n",
    "WHERE \n",
    "    h.paciente_id = p.paciente_id AND \n",
    "    h.sintoma_condicao_id = s.sintoma_condicao_id AND \n",
    "    s.nome = \"X\" AND\n",
    "    p.peso >= 80\n",
    ";"
   ]
  },
  {
   "cell_type": "markdown",
   "metadata": {},
   "source": [
    "Saber se a doença X ocorreu em outros pacientes com a mesma ocupação (trabalho)"
   ]
  },
  {
   "cell_type": "code",
   "execution_count": null,
   "metadata": {},
   "outputs": [],
   "source": [
    "SELECT COUNT(p2.paciente_id) \n",
    "FROM HistoricoSintomaCondicao h, Paciente p1, SintomaCondicao s, Paciente p2\n",
    "WHERE \n",
    "    h.paciente_id = p1.paciente_id AND \n",
    "    h.sintoma_condicao_id = s.sintoma_condicao_id AND \n",
    "    s.nome = \"X\" AND\n",
    "    p1.ocupacao = p2.ocupacao\n",
    ";"
   ]
  },
  {
   "cell_type": "markdown",
   "metadata": {},
   "source": [
    "Saber quais sintomas estão relacionados a outros sintomas (por exemplo dor de cabeça pode ser causado por desidrataçao, rinite, etc)"
   ]
  },
  {
   "cell_type": "code",
   "execution_count": null,
   "metadata": {},
   "outputs": [],
   "source": [
    "SELECT s2.nome_popular\n",
    "FROM SintomaCondicao s1, SintomaCondicao s2,\n",
    "WHERE \n",
    "    s1.nome_popular = \"Dor de Cabeça\" AND\n",
    "    s1.sintoma_condicao_id = f.sintoma_condicao__filho_id AND\n",
    "    s2.sintoma_condicao_id = f.sintoma_condicao__pai_id\n",
    ";"
   ]
  }
 ],
 "metadata": {
  "kernelspec": {
   "display_name": "Python 3",
   "language": "python",
   "name": "python3"
  },
  "language_info": {
   "codemirror_mode": {
    "name": "ipython",
    "version": 3
   },
   "file_extension": ".py",
   "mimetype": "text/x-python",
   "name": "python",
   "nbconvert_exporter": "python",
   "pygments_lexer": "ipython3",
   "version": "3.6.6"
  }
 },
 "nbformat": 4,
 "nbformat_minor": 2
}
