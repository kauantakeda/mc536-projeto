{
 "cells": [
  {
   "cell_type": "markdown",
   "metadata": {},
   "source": [
    "# trabalho-etapa02-MC536"
   ]
  },
  {
   "cell_type": "markdown",
   "metadata": {},
   "source": [
    "Modelagem Conceitual v4<br>\n",
    "<br>\n",
    "<img src=\"https://i.imgur.com/TgH9WfO.jpg\"><br>\n",
    "<br>\n",
    "<br>\n",
    "Modelagem Lógica v2<br>\n",
    "<img src=\"https://i.imgur.com/LMx8FLs.png\"><br>"
   ]
  },
  {
   "cell_type": "markdown",
   "metadata": {},
   "source": [
    "# Criando Tabelas CYPHER"
   ]
  },
  {
   "cell_type": "markdown",
   "metadata": {},
   "source": [
    "LOAD CSV WITH HEADERS FROM\n",
    "'https://neo4j.com/docs/cypher-refcard/3.4/csv/artists-with-headers.csv' AS line\n",
    "CREATE (:Pessoas {pessoa_id: toInteger(line.pessoa_id), nome: line.nome, idade: toInteger(line.idade), altura: toInteger(line.altura), peso: toInteger(line.peso), fumante: toInteger(line.fumante)})\n",
    "\n",
    "LOAD CSV WITH HEADERS FROM\n",
    "'https://neo4j.com/docs/cypher-refcard/3.4/csv/artists-with-headers.csv' AS line\n",
    "CREATE (:HistoricoSintoma {historicoSintoma_id: toInteger(line.historicoSintoma_id), data: line.data, pessoa_id: toInteger(line.pessoa_id), sintoma_id: toInteger(line.sintoma_id)})\n",
    "\n",
    "LOAD CSV WITH HEADERS FROM\n",
    "'https://neo4j.com/docs/cypher-refcard/3.4/csv/artists-with-headers.csv' AS line\n",
    "CREATE (:HistoricoDoenca {historicoDoenca_id: toInteger(line.historicoDoenca_id), data: line.data, pessoa_id: toInteger(line.pessoa_id), doenca_id: toInteger(line.doenca_id), cidade_id: toInteger(line.cidade_id)})\n",
    "\n",
    "LOAD CSV WITH HEADERS FROM\n",
    "'https://neo4j.com/docs/cypher-refcard/3.4/csv/artists-with-headers.csv' AS line\n",
    "CREATE (:SintomaDoenca {sintomaDoenca_id: toInteger(line.sintomaDoenca_id), sintoma_id: toInteger(line.sintoma_id), doenca_id: toInteger(line.doenca_id)})\n",
    "\n",
    "LOAD CSV WITH HEADERS FROM\n",
    "'https://neo4j.com/docs/cypher-refcard/3.4/csv/artists-with-headers.csv' AS line\n",
    "CREATE (:Sintoma {sintoma_id: toInteger(line.sintoma_id), nome: line.nome, descricao: line.descricao})\n",
    "\n",
    "LOAD CSV WITH HEADERS FROM\n",
    "'https://neo4j.com/docs/cypher-refcard/3.4/csv/artists-with-headers.csv' AS line\n",
    "CREATE (:Sintoma {doenca_id: toInteger(line.doenca_id), nome: line.nome, descricao: line.descricao})\n",
    "\n",
    "LOAD CSV WITH HEADERS FROM\n",
    "'https://neo4j.com/docs/cypher-refcard/3.4/csv/artists-with-headers.csv' AS line\n",
    "CREATE (:Cidade {cidade_id: toInteger(line.cidade_id), nome: line.nome, estado_id: toInteger(line.estado_id)})\n",
    "\n",
    "LOAD CSV WITH HEADERS FROM\n",
    "'https://neo4j.com/docs/cypher-refcard/3.4/csv/artists-with-headers.csv' AS line\n",
    "CREATE (:Estado {estado_id: toInteger(line.estado_id), nome: line.nome, sigla: line.sigla})\n",
    "\n",
    "LOAD CSV WITH HEADERS FROM\n",
    "'https://neo4j.com/docs/cypher-refcard/3.4/csv/artists-with-headers.csv' AS line\n",
    "CREATE (:InformacaoAdicional {infAdd_id: toInteger(line.infAdd_id), descricao: line.descricao, pessoa_id: toInteger(line.pessoa_id), categoria_id: toInteger(line.categoria_id)})\n",
    "\n",
    "LOAD CSV WITH HEADERS FROM\n",
    "'https://neo4j.com/docs/cypher-refcard/3.4/csv/artists-with-headers.csv' AS line\n",
    "CREATE (:Categoria {categoria_id: toInteger(line.categoria_id), nome: line.nome})\n",
    "\n",
    "LOAD CSV WITH HEADERS FROM\n",
    "'https://neo4j.com/docs/cypher-refcard/3.4/csv/artists-with-headers.csv' AS line\n",
    "CREATE (:AjudaDiag {ajudaDiag_id: toInteger(line.ajudaDiag_id), categoria_id: toInteger(line.categoria_id), doenca_id: toInteger(line.doenca_id)})\n"
   ]
  },
  {
   "cell_type": "markdown",
   "metadata": {},
   "source": [
    "# Criando relações CYPHER"
   ]
  },
  {
   "cell_type": "markdown",
   "metadata": {},
   "source": [
    "MATCH (a:Pessoas) \n",
    "MATCH (b:Sintoma) \n",
    "MATCH (c:HistoricoSintoma)\n",
    "WHERE c.pessoa_id = a.pessoa_id AND c.sintoma_id = b.sintoma_id\n",
    "CREATE (a)-[:Possuiu {data: toInteger(c.data)}]->(b);\n",
    "\n",
    "MATCH (a:Pessoas) \n",
    "MATCH (b:Doenca) \n",
    "MATCH (c:HistoricoDoenca)\n",
    "MATCH (d:Cidade)\n",
    "WHERE c.pessoa_id = a.pessoa_id AND c.doenca_id = b.doenca_id AND c.cidade_id = d.cidade_id \n",
    "CREATE (a)-[:Possuiu {data: toInteger(c.data), cidade: d.nome}]->(b);\n",
    "\n",
    "MATCH (a:Doenca) \n",
    "MATCH (b:Sintoma) \n",
    "MATCH (c:sintomaDoenca)\n",
    "WHERE c.doenca_id = a.doenca_id AND c.sintoma_id = b.sintoma_id\n",
    "CREATE (a)-[:PodeCausar {data: toInteger(c.data)}]->(b);\n",
    "\n",
    "MATCH (a:Pessoas)\n",
    "MATCH (b:InformacaoAdicional)\n",
    "WHERE b.pessoa_id = a.pessoa_id\n",
    "CREATE (a)-[:Tem {descricao: b.descricao}]->(b);\n",
    "\n",
    "MATCH (a:InformacaoAdicional) \n",
    "MATCH (b:Categoria)\n",
    "WHERE b.categoria_id = a.categoria_id \n",
    "CREATE (a)-[:Representa]->(b);\n",
    "\n",
    "MATCH (a:Categoria) \n",
    "MATCH (b:Doenca) \n",
    "MATCH (c:AjudaDiag)\n",
    "WHERE c.doenca_id = b.doenca_id AND c.categoria_id = b.categoria_id\n",
    "CREATE (a)-[:AjudaDiagnosticar]->(b);\n"
   ]
  }
 ],
 "metadata": {
  "kernelspec": {
   "display_name": "Python 3",
   "language": "python",
   "name": "python3"
  },
  "language_info": {
   "codemirror_mode": {
    "name": "ipython",
    "version": 3
   },
   "file_extension": ".py",
   "mimetype": "text/x-python",
   "name": "python",
   "nbconvert_exporter": "python",
   "pygments_lexer": "ipython3",
   "version": "3.6.6"
  }
 },
 "nbformat": 4,
 "nbformat_minor": 2
}
